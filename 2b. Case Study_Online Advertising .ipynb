{
 "cells": [
  {
   "cell_type": "code",
   "execution_count": 2,
   "id": "c579ac7d",
   "metadata": {},
   "outputs": [],
   "source": [
    "# so we want to measure click through rate \n",
    "\n",
    "# click through rate = click / total Impressions \n",
    "\n"
   ]
  },
  {
   "cell_type": "code",
   "execution_count": 1,
   "id": "c1b039a2",
   "metadata": {},
   "outputs": [],
   "source": [
    "# can be a binary outcome of 0, 1 \n",
    "# we can use a binomial distribution here \n",
    "\n",
    "import numpy as np\n",
    "import pandas as pd"
   ]
  },
  {
   "cell_type": "code",
   "execution_count": 2,
   "id": "9fcb4512",
   "metadata": {},
   "outputs": [],
   "source": [
    "class BernoulliBandit:\n",
    "    def __init__(self, p):\n",
    "        self.p = p\n",
    "    def display_ad(self):\n",
    "        reward = np.random.binomial(n = 1, p = self.p)\n",
    "\n",
    "        return reward"
   ]
  },
  {
   "cell_type": "code",
   "execution_count": 3,
   "id": "4b4189e2",
   "metadata": {},
   "outputs": [],
   "source": [
    "adA = BernoulliBandit(0.004)\n",
    "adB = BernoulliBandit(0.016)\n",
    "adC = BernoulliBandit(0.02)\n",
    "adD = BernoulliBandit(0.028)\n",
    "adE = BernoulliBandit(0.031)\n",
    "ads = [adA, adB, adC, adD, adE]"
   ]
  },
  {
   "cell_type": "code",
   "execution_count": 4,
   "id": "e69bf98e",
   "metadata": {},
   "outputs": [],
   "source": [
    "n_test = 10000\n",
    "n_prod = 90000\n",
    "n_ads = len(ads)\n",
    "Q = np.zeros(n_ads) # Q, action values \n",
    "N = np.zeros(n_ads) # N, total impressions\n",
    "total_reward = 0 \n",
    "avg_rewards = []"
   ]
  },
  {
   "cell_type": "code",
   "execution_count": 5,
   "id": "ff138d3f",
   "metadata": {},
   "outputs": [],
   "source": [
    "# every ad has a different probability of click-through rate, and we select an ad to be viewed at random \n",
    "for i in range(n_test):\n",
    "    ad_chosen = np.random.randint(n_ads)\n",
    "    R = ads[ad_chosen].display_ad() # observe reward \n",
    "    N[ad_chosen] += 1 \n",
    "    Q[ad_chosen] += (1 / N[ad_chosen]) * (R - Q[ad_chosen])\n",
    "    total_reward += R \n",
    "    avg_reward_so_far = total_reward / (i + 1)\n",
    "    avg_rewards.append(avg_reward_so_far)"
   ]
  },
  {
   "cell_type": "code",
   "execution_count": 6,
   "id": "8d9b9168",
   "metadata": {},
   "outputs": [],
   "source": [
    "best_ad_index = np.argmax(Q)"
   ]
  },
  {
   "cell_type": "code",
   "execution_count": 7,
   "id": "24402ab9",
   "metadata": {},
   "outputs": [
    {
     "name": "stdout",
     "output_type": "stream",
     "text": [
      "The best performing ad is 4\n"
     ]
    }
   ],
   "source": [
    "print(\"The best performing ad is {}\".format(best_ad_index))"
   ]
  },
  {
   "cell_type": "code",
   "execution_count": 8,
   "id": "cedc9682",
   "metadata": {},
   "outputs": [],
   "source": [
    "# not exactly right, maybe the test period wasnt long enough "
   ]
  },
  {
   "cell_type": "code",
   "execution_count": 9,
   "id": "36964b0c",
   "metadata": {},
   "outputs": [],
   "source": [
    "# running in production\n",
    "\n",
    "ad_chosen = best_ad_index \n",
    "for i in range(n_prod):\n",
    "    R = ads[ad_chosen].display_ad()\n",
    "    total_reward += R \n",
    "    avg_reward_so_far = total_reward / (n_test + i + 1)\n",
    "    avg_rewards.append(avg_reward_so_far)"
   ]
  },
  {
   "cell_type": "code",
   "execution_count": 10,
   "id": "2132fdb1",
   "metadata": {},
   "outputs": [],
   "source": [
    "# creating a pandas dataFrame to record the results from the A/B/n test \n",
    "df_reward_comparison = pd.DataFrame(avg_rewards, columns = [\"A/B/n\"])"
   ]
  },
  {
   "cell_type": "code",
   "execution_count": 11,
   "id": "742e0e16",
   "metadata": {},
   "outputs": [],
   "source": [
    "import matplotlib.pyplot as plt"
   ]
  },
  {
   "cell_type": "code",
   "execution_count": 12,
   "id": "260d7ee3",
   "metadata": {},
   "outputs": [],
   "source": [
    "df_reward_comparison[\"Impressions\"] = [i for i in range(1, len(df_reward_comparison) + 1)]"
   ]
  },
  {
   "cell_type": "code",
   "execution_count": 13,
   "id": "04483472",
   "metadata": {},
   "outputs": [
    {
     "data": {
      "text/html": [
       "<div>\n",
       "<style scoped>\n",
       "    .dataframe tbody tr th:only-of-type {\n",
       "        vertical-align: middle;\n",
       "    }\n",
       "\n",
       "    .dataframe tbody tr th {\n",
       "        vertical-align: top;\n",
       "    }\n",
       "\n",
       "    .dataframe thead th {\n",
       "        text-align: right;\n",
       "    }\n",
       "</style>\n",
       "<table border=\"1\" class=\"dataframe\">\n",
       "  <thead>\n",
       "    <tr style=\"text-align: right;\">\n",
       "      <th></th>\n",
       "      <th>A/B/n</th>\n",
       "      <th>Impressions</th>\n",
       "    </tr>\n",
       "  </thead>\n",
       "  <tbody>\n",
       "    <tr>\n",
       "      <th>0</th>\n",
       "      <td>0.000000</td>\n",
       "      <td>1</td>\n",
       "    </tr>\n",
       "    <tr>\n",
       "      <th>1</th>\n",
       "      <td>0.000000</td>\n",
       "      <td>2</td>\n",
       "    </tr>\n",
       "    <tr>\n",
       "      <th>2</th>\n",
       "      <td>0.000000</td>\n",
       "      <td>3</td>\n",
       "    </tr>\n",
       "    <tr>\n",
       "      <th>3</th>\n",
       "      <td>0.000000</td>\n",
       "      <td>4</td>\n",
       "    </tr>\n",
       "    <tr>\n",
       "      <th>4</th>\n",
       "      <td>0.000000</td>\n",
       "      <td>5</td>\n",
       "    </tr>\n",
       "    <tr>\n",
       "      <th>...</th>\n",
       "      <td>...</td>\n",
       "      <td>...</td>\n",
       "    </tr>\n",
       "    <tr>\n",
       "      <th>99995</th>\n",
       "      <td>0.030471</td>\n",
       "      <td>99996</td>\n",
       "    </tr>\n",
       "    <tr>\n",
       "      <th>99996</th>\n",
       "      <td>0.030471</td>\n",
       "      <td>99997</td>\n",
       "    </tr>\n",
       "    <tr>\n",
       "      <th>99997</th>\n",
       "      <td>0.030471</td>\n",
       "      <td>99998</td>\n",
       "    </tr>\n",
       "    <tr>\n",
       "      <th>99998</th>\n",
       "      <td>0.030470</td>\n",
       "      <td>99999</td>\n",
       "    </tr>\n",
       "    <tr>\n",
       "      <th>99999</th>\n",
       "      <td>0.030470</td>\n",
       "      <td>100000</td>\n",
       "    </tr>\n",
       "  </tbody>\n",
       "</table>\n",
       "<p>100000 rows × 2 columns</p>\n",
       "</div>"
      ],
      "text/plain": [
       "          A/B/n  Impressions\n",
       "0      0.000000            1\n",
       "1      0.000000            2\n",
       "2      0.000000            3\n",
       "3      0.000000            4\n",
       "4      0.000000            5\n",
       "...         ...          ...\n",
       "99995  0.030471        99996\n",
       "99996  0.030471        99997\n",
       "99997  0.030471        99998\n",
       "99998  0.030470        99999\n",
       "99999  0.030470       100000\n",
       "\n",
       "[100000 rows x 2 columns]"
      ]
     },
     "execution_count": 13,
     "metadata": {},
     "output_type": "execute_result"
    }
   ],
   "source": [
    "df_reward_comparison"
   ]
  },
  {
   "cell_type": "code",
   "execution_count": 14,
   "id": "809349a4",
   "metadata": {},
   "outputs": [
    {
     "data": {
      "text/plain": [
       "[<matplotlib.lines.Line2D at 0x1fe6083fe50>]"
      ]
     },
     "execution_count": 14,
     "metadata": {},
     "output_type": "execute_result"
    },
    {
     "data": {
      "image/png": "[encoded data removed]",
      "text/plain": [
       "<Figure size 640x480 with 1 Axes>"
      ]
     },
     "metadata": {},
     "output_type": "display_data"
    }
   ],
   "source": [
    "\n",
    "\n",
    "plt.plot(df_reward_comparison[\"Impressions\"], df_reward_comparison[\"A/B/n\"])"
   ]
  },
  {
   "cell_type": "code",
   "execution_count": 19,
   "id": "8ff258ac",
   "metadata": {},
   "outputs": [],
   "source": [
    "# A/B/n testing is inefficient as it does not modift the experiment dynamically by learning from observations "
   ]
  },
  {
   "cell_type": "code",
   "execution_count": 20,
   "id": "389c5fd7",
   "metadata": {},
   "outputs": [],
   "source": [
    "# it is unable to correct a decision once it is made "
   ]
  },
  {
   "cell_type": "code",
   "execution_count": 21,
   "id": "bb93c2a8",
   "metadata": {},
   "outputs": [],
   "source": [
    "# It is unable to adapt to the changes (if the reward changes over time)"
   ]
  },
  {
   "cell_type": "code",
   "execution_count": 22,
   "id": "dddb4dcd",
   "metadata": {},
   "outputs": [],
   "source": [
    "# the length of a test period is another hyperparameter to test, affecting efficiency"
   ]
  },
  {
   "cell_type": "code",
   "execution_count": 23,
   "id": "d0cac91e",
   "metadata": {},
   "outputs": [],
   "source": [
    "#A/B/n testing is simple "
   ]
  },
  {
   "cell_type": "code",
   "execution_count": null,
   "id": "26060ef2",
   "metadata": {},
   "outputs": [],
   "source": []
  },
  {
   "cell_type": "code",
   "execution_count": 24,
   "id": "d4d933d8",
   "metadata": {},
   "outputs": [],
   "source": [
    "# E - greedy actions "
   ]
  },
  {
   "cell_type": "code",
   "execution_count": 25,
   "id": "cb3c5fd5",
   "metadata": {},
   "outputs": [],
   "source": [
    "eps = 0.1 \n",
    "n_prod = 100000\n",
    "n_ads = len(ads)\n",
    "Q = np.zeros(n_ads)\n",
    "N = np.zeros(n_ads)\n",
    "total_reward = 0 \n",
    "avg_rewards = []"
   ]
  },
  {
   "cell_type": "code",
   "execution_count": 26,
   "id": "a6c081ca",
   "metadata": {},
   "outputs": [],
   "source": [
    "ad_chosen = np.random.randint(n_ads)\n",
    "for i in range(n_prod):\n",
    "    R = ads[ad_chosen].display_ad()\n",
    "    N[ad_chosen] += 1 \n",
    "    Q[ad_chosen] += (1 / N[ad_chosen]) * (R - Q[ad_chosen])\n",
    "    total_reward += R \n",
    "    avg_reward_so_far = total_reward / ( i + 1)\n",
    "    avg_rewards.append(avg_reward_so_far)\n",
    "    # select the next ad to display \n",
    "    \n",
    "    if np.random.uniform() <= eps:\n",
    "        ad_chosen = np.random.randint(n_ads)\n",
    "    else:\n",
    "        ad_chosen = np.argmax(Q)\n",
    "# plot graphs based on different greed values \n",
    "        "
   ]
  },
  {
   "cell_type": "code",
   "execution_count": 27,
   "id": "76083135",
   "metadata": {},
   "outputs": [],
   "source": [
    "# e - greedy has the potential to pick upo changes "
   ]
  },
  {
   "cell_type": "code",
   "execution_count": 28,
   "id": "c104c250",
   "metadata": {},
   "outputs": [],
   "source": [
    "# maybe can dynamically change the e value, starting from high -> low "
   ]
  },
  {
   "cell_type": "code",
   "execution_count": 29,
   "id": "4f7c5423",
   "metadata": {},
   "outputs": [],
   "source": [
    "# maybe we we could increase the weight of the more recent values "
   ]
  },
  {
   "cell_type": "code",
   "execution_count": 30,
   "id": "37830634",
   "metadata": {},
   "outputs": [],
   "source": [
    "# this will introduce new hyperparameters to be tuned "
   ]
  },
  {
   "cell_type": "code",
   "execution_count": 31,
   "id": "14e6db34",
   "metadata": {},
   "outputs": [],
   "source": [
    "# upper confidence limit \n",
    "# basically at every interval, choose the one with the highest score \n",
    "# score = uncertainty + action value \n",
    "# uncertainty = c sqrt(lnt / N(a))\n",
    "\n"
   ]
  },
  {
   "cell_type": "code",
   "execution_count": null,
   "id": "bb5d64fc",
   "metadata": {},
   "outputs": [],
   "source": []
  },
  {
   "cell_type": "code",
   "execution_count": 33,
   "id": "dd418ecb",
   "metadata": {},
   "outputs": [
    {
     "name": "stdout",
     "output_type": "stream",
     "text": [
      "[0 1 2 3 4]\n"
     ]
    }
   ],
   "source": [
    "c = 0.1 \n",
    "n_prod = 100000\n",
    "n_ads = len(ads)\n",
    "ad_indices = np.array(range(n_ads))\n",
    "print(ad_indices)\n",
    "Q = np.zeros(n_ads) # the action values \n",
    "N = np.zeros(n_ads) # the number of impressions \n",
    "total_reward = 0 \n",
    "avg_rewards = []"
   ]
  },
  {
   "cell_type": "code",
   "execution_count": 34,
   "id": "522c1828",
   "metadata": {},
   "outputs": [
    {
     "data": {
      "text/plain": [
       "array([0, 1, 2, 3, 4])"
      ]
     },
     "execution_count": 34,
     "metadata": {},
     "output_type": "execute_result"
    }
   ],
   "source": [
    "ad_indices[N==0]"
   ]
  },
  {
   "cell_type": "code",
   "execution_count": 35,
   "id": "ade02816",
   "metadata": {},
   "outputs": [],
   "source": [
    "for t in range(1, n_prod + 1):\n",
    "    if any(N == 0):\n",
    "        ad_chosen = np.random.choice(ad_indices[N==0])\n",
    "    else:\n",
    "        uncertainty = np.sqrt(np.log(t)/N)\n",
    "        ad_chosen = np.argmax(Q + c * uncertainty)\n",
    "    R = ads[ad_chosen].display_ad()\n",
    "    N[ad_chosen] += 1 \n",
    "    Q[ad_chosen] += (1/N[ad_chosen]) * (R - Q[ad_chosen])\n",
    "    total_reward += R \n",
    "    avg_reward_so_far = total_reward / t \n",
    "    avg_rewards.append(avg_reward_so_far)\n",
    "    \n",
    "df_reward_comparison[\"UCB, c = {}\".format(c)] = avg_rewards"
   ]
  },
  {
   "cell_type": "code",
   "execution_count": null,
   "id": "b278e5ba",
   "metadata": {},
   "outputs": [],
   "source": [
    "# run through different c values since it is a hyperparameter \n",
    "\n",
    "# UCB is a set and forget approach and can be optimized dynamically . or hard to tune "
   ]
  }
 ],
 "metadata": {
  "kernelspec": {
   "display_name": "Python 3 (ipykernel)",
   "language": "python",
   "name": "python3"
  },
  "language_info": {
   "codemirror_mode": {
    "name": "ipython",
    "version": 3
   },
   "file_extension": ".py",
   "mimetype": "text/x-python",
   "name": "python",
   "nbconvert_exporter": "python",
   "pygments_lexer": "ipython3",
   "version": "3.10.7"
  }
 },
 "nbformat": 4,
 "nbformat_minor": 5
}
